{
 "cells": [
  {
   "cell_type": "code",
   "execution_count": 1,
   "metadata": {},
   "outputs": [],
   "source": [
    "import pandas as pd\n",
    "pd.options.display.max_rows=200\n",
    "import requests\n",
    "from googletrans import Translator"
   ]
  },
  {
   "cell_type": "code",
   "execution_count": 29,
   "metadata": {},
   "outputs": [],
   "source": [
    "def replacing(dictry, strg):\n",
    "    for key, value in dictry.items():\n",
    "        if key in strg:            \n",
    "            strg = strg.replace(key, key + ' (' + value + ')')\n",
    "    return strg"
   ]
  },
  {
   "cell_type": "code",
   "execution_count": null,
   "metadata": {},
   "outputs": [],
   "source": [
    "train_data = 'train_data.tsv'\n",
    "translator = Translator()\n",
    "df = pd.read_csv(train_data, sep='\\t', index_col=0)\n",
    "df['trans'] = pd.Series([])\n",
    "\n",
    "tr = df[df['answer'] == True]\n",
    "tr = tr.reset_index(drop=True)"
   ]
  },
  {
   "cell_type": "code",
   "execution_count": 36,
   "metadata": {},
   "outputs": [
    {
     "data": {
      "text/plain": [
       "'Некоммерческое партнерство \"Компьютерная сеть \"Микролан\"'"
      ]
     },
     "execution_count": 36,
     "metadata": {},
     "output_type": "execute_result"
    }
   ],
   "source": [
    "tr['ru_name'][0]"
   ]
  },
  {
   "cell_type": "code",
   "execution_count": null,
   "metadata": {},
   "outputs": [],
   "source": [
    "dictry = {\n",
    "    'ЗАО' : 'Закрытое акционерное общество',\n",
    "    'ООО' : 'Общество с ограниченной ответствнностью'\n",
    "}"
   ]
  },
  {
   "cell_type": "code",
   "execution_count": 11,
   "metadata": {},
   "outputs": [
    {
     "name": "stdout",
     "output_type": "stream",
     "text": [
      "Некоммерческое партнерство \"Компьютерная сеть \"Микролан\" | Non-commercial partnership \"Computer network\" Mikrolan \" | Microlan\n",
      "Общество с ограниченной ответственностью \"Торговый дом Ачинск\" | Limited Liability Company \"Trade House Achinsk\" | Limited Liadility Company \"Trade House Achinsk\"\n",
      "Общество с ограниченной ответственностью \"Вендинг\" | Limited Liability Company \"Vending\" | \"Vending\" Ltd\n",
      "Общество с ограниченной ответственностью \"Бухта Капитанов\" | Limited Liability Company \"Bay Captains\" | \"The Bay of Captains\" Ltd\n",
      "ЗАО \"Пристень-cахар\" | CJSC \"Pristen-Sugar\" | Open Joint Stock Company \"Pristen-sugar\"\n",
      "Закрытое акционерное общество \"ВИРО-Дальний Восток\" | Closed Joint Stock Company \"Viro-Far East\" | Joint stock company \"VIRO-Far East\"\n",
      "Общество с ограниченной ответственностью \"Магма\" | Limited Liability Company \"Magma\" | LTD MAGMA\n",
      "Общество с ограниченной ответственностью \"АИРСОФТГАНС\" | Limited Liability Company \"AIRSOFTGANS\" | \"AIRSOFTGUNS\" LLC\n",
      "Общество с ограниченной ответственностью \"ЛОКАЛ ТОРИН\" | Limited Liability Company \"LOCAL Torino\" | LLC \"LOKAL TORIN\"\n",
      "АНТ | IPG | Association independent TV and Radio Broadcasters\n",
      "ООО \"Юнион-Маркет\" | OOO \"Union Market\" | Union-Market\n",
      "ЗАО \"ОТК\" | ZAO \"OTK\" | \"United Trade Company\" JSC\n",
      "ООО \"ИмператорЪ\" | OOO \"emperor\" | Сompany Limited \"Imperator\"\n",
      "ОБЩЕСТВО С ОГРАНИЧЕННОЙ ОТВЕТСТВЕННОСТЬЮ \"АРТЕЛЬ ГРУПП\" | LIMITED LIABILITY COMPANY \"ARTEL GROUP\" | Limited liability company \"CRISTAL LOVE\"\n",
      "Общество с ограниченной ответственностью \"СВАН-Инжиниринг\" | Limited Liability Company \"STAN-Engineering\" | SVAN-Engineering Limited Liability Company\n",
      "Ликвидационная комиссия Общество с ограниченной ответственностью \"ГИКС\" (принято решение о ликвидации) | The liquidation committee Limited Liability Company \"GIAC\" (decision on liquidation) | GIKS LTD\n",
      "ООО \"СХС.РУ\" | OOO \"SHS.RU\" | \"SHS.RU\" LLC\n",
      "ООО РА \"ПМ\" | OOO RA \"PM\" | Limited Company Publicity agency \"Perpetuum mobile\"\n",
      "ООО \"Автовозов\" | Ltd. \"Autotransporters\" | Avtovozov, LLC\n",
      "Общество с ограниченной ответственностью \"Межотраслевое Объединение Сервиса\" | Limited Liability Company \"Interdisciplinary Service Association\" | \"Mosconsaltgrupp\" Company Limited\n",
      "ООО \"Ингредиенты\" | Ltd. \"Ingredients\" | Ingredients Societe a responsabilite limitee\n",
      "ООО \"Олимпик Спорт 21\" | OOO \"Olympic Sport 21\" | OLYMPIC SPORT Ltd\n",
      "ООО Международная торговая компания \"Звездный огонь\" | Ltd. The International Trade Company \"Starfire\" | Star Fire\n",
      "ООО \"МТК\" | OOO \"ITC\" | WTC LLC\n",
      "Открытое акционерное общество \"Читатехэнерго\" | Open Joint Stock Company \"Chitatechenergo\" | Joint-Stock Company \"Chitatehenergy\"\n",
      "Общество с ограниченной ответственностью \"Бизнестехпром\" | Limited Liability Company \"Biznestehprom\" | Bisnesstechprom, Company Limited\n",
      "Закрытое акционерное общество \"Конаковский комбинат строительных материалов\" | Closed Joint Stock Company \"Konakovo plant of building materials\" | \"Konakovo plant of building materials,Inc\"\n",
      "ООО \"ГК Хексен-СПБ\" | OOO \"GK hex-SPB\" | Limited Liability Company \"Group of Companies Hex\"\n",
      "ООО \"12 Вольт\" | Ltd. \"12 Volt\" | Limited liability company \"12 Volt\"\n",
      "Общество с ограниченной ответственностью \"ТинтЛайн\" | Limited Liability Company \"TintLayn\" | \"TintLine\"\n",
      "ООО \"Бьюти проф\" | Ltd. \"Beauty Prof\" | Limited liability company \"Beаty prof\"\n",
      "Общество с ограниченной ответственностью \"Джинс Хаус\" | Limited Liability Company \"Jeans House\" | \"Jeans House\" Limited Liability Company\n",
      "Общество с ограниченной ответственностью \"АНГАРА\" | Limited Liability Company \"Angara\" | Society with Limited LiabiLity \"ANGARA\"\n",
      "ЛОКC ИНВЕСТМЕНТ | LOKCA INVESTMENT | LLC LOKS INVESTMENT\n",
      "Общество с ограниченной ответственностью \"Фуд Проджект\" | Limited Liability Company \"Food Project\" | Food Project Limited\n",
      "Общество с ограниченной ответственностью \"Кук\" | Limited Liability Company \"Cook\" | Cook\n",
      "Нижегородская Региональная Общественная Организация \"Спортивная Федерация Сквоша\" | Nizhny Novgorod Regional Public Organization \"Sport Squash Federation\" | Nizhegorodskay regional social organization \"Squash Sport Federation\"\n",
      "ОАО \"9 ЦАРЗ\" | OAO \"9 CARZ\" | Open Joint Stock compani \"9 CARZ\"\n",
      "ООО \"Фореста Дизайн\" | OOO \"Foresta Design\" | \"Foresta Design\" Ltd\n",
      "Общество с ограниченной ответственностью \"Эм Би Пи Компьютерс\" | Limited Liability Company \"Um BP Computers\" | \"MBP Computers\" Company Limited\n",
      "Общество с ограниченной ответственностью \"Аллегро Групп\" | Limited Liability Company \"Allegro Group\" | Limited IiabiIity company \"AIIegro Grupp\"\n",
      "АДА | ADA | Automobile-Highway Association\n",
      "Общество с ограниченной ответственностью \"Сибилла\" | Limited Liability Company \"Sybil\" | \"Stroyles\" Company Limited\n",
      "Общество с ограниченной ответственностью \"Топмарк\" | Limited Liability Company \"Topmark\" | Limited Liability Company \"Topmark\"\n",
      "НП \"ОУРТБУХ\" | NP \"OURTBUH\" | Nonprofit partnership \"Society for sustainable development of the territory \"BELSKOE USTIE - HOLOMKI\"\n",
      "ООО \"Рентакам\" | OOO \"Rentakam\" | Rentacam\n",
      "Общество с ограниченной ответственностью \"Виртген-Интернациональ-Сервис\" | Limited Liability Company \"Wirtgen International-Service\" | Limited Liability company \"Virtgen-International-Servis\"\n",
      "Общество с ограниченной ответственностью \"Бразерс Финанс\" | Limited Liability Company \"Brothers Finance\" | \"Brother`s Finance\" Ltd\n",
      "Общество с ограниченной ответственностью \"Бизнес Трэвел Менеджмент\" | Limited Liability Company \"Business Travel Management\" | \"Business Travel Management\"\n",
      "Общество с ограниченной ответственностью \"Глосс\" | Limited Liability Company \"Gloss\" | Gloss\n",
      "Общество с ограниченной ответственностью \"АВТОЭКСПОРТ\" | Limited Liability Company \"Autoexport\" | Limited Company \"AVTOEXSPORT\"\n",
      "Общество с ограниченной ответственностью \"КаспианЯран\" | Limited Liability Company \"KaspianYaran\" | \"Caspianyaran\"\n",
      "Общество с ограниченной ответственностью \"Торгово-Промышленная компания Нерудно-сырьевые материалы\" | Limited Liability Company \"Commercial and industrial company, non-metallic raw materials\" | Limited Liability Company \"Commercial and industr\"\n",
      "Общество с ограниченной ответственностью \"АЛРОЙЛ\" | Limited Liability Company \"ALROYL\" | ALROYL Limited Liability Company\n",
      "АКЦИОНЕРНОЕ ОБЩЕСТВО \"ТОРГМОРТРАНС\" | JOINT STOCK COMPANY \"TORGMORTRANS\" | \"TORGMORTRANS LTD\"\n",
      "ООО \"СИБВЕЛ\" | OOO \"SIBVEL\" | Limited Liability Company \"SIBWELL\"\n",
      "ООО \"СТРОЙПРОЕКТКОНСАЛТ\" | \"STROYPROEKTKONSALT\" Ltd. | \"Project\" LLC\n",
      "ООО \"Ист Лайнс\" | OOO \"East Lines\" | EAST LINES\n",
      "ООО \"Профит Холл СПб\" | OOO \"Profit Hall of St. Petersburg\" | \"Profit Hall SPb\" Co.Ltd\n",
      "ООО \"Баумашинен\" | Ltd. \"Baumashinen\" | \"Baumashinen\"\n",
      "ООО \"Роуд Мастер\" | Ltd. \"Road Master\" | Road Master Limited, R.Master Ltd\n",
      "Общество с ограниченной ответственностью \"Алелсо\" | Limited Liability Company \"Alelso\" | Alelso Ltd\n",
      "Ликвидационная комиссия Общество с ограниченной ответственностью \"ВИЗА-Комплект\" (сформирована ликвидационная комиссия) | The liquidation committee Limited Liability Company \"VISA-Set\" (formed by the liquidation commission) | Limited Liability Compani \"VIZA-Komplekt\"\n",
      "Общество с ограниченной ответственностью \"Эприкот Маркет\" | Limited Liability Company \"Eprikot Market\" | \"APRICOT MARKET\" CO. LTD\n",
      "Закрытое акционерное общество \"КРАСНОАРМЕЙСКИЙ ЛЕСОЗАВОД\" (открыто конкурсное производство) | Closed Joint Stock Company \"KRASNOARMEYSK LESOZAVOD\" (bankruptcy proceedings) | JSC \"KRASNOARMEISKY TIMBER PLANT\"\n",
      "Ликвидационная комиссия ОБЩЕСТВО С ОГРАНИЧЕННОЙ ОТВЕТСТВЕННОСТЬЮ \"ДИЖУАЛЬ\" (сформирована ликвидационная комиссия) | The residual Commission LIMITED LIABILITY \"DIZHUAL\" (formed liquidation commission) | Dizhual\n",
      "ООО \"РостСервис Импорт\" | Ltd. \"RostServis Import\" | \"RostService Import\" Company Limited\n",
      "ЗАО \"АКФЕН\" | ZAO \"Akfen\" | Private company limited by shares \"AKFEN\"\n",
      "ООО \"Билдинг\" | OOO \"Building\" | \"Building\" LTD\n",
      "Общество с ограниченной ответственностью \"Сембрит\" | Limited Liability Company \"Cembrit\" | \"Cembrit\" Limited Liability Company\n",
      "Общество с ограниченной ответственностью \"Юз АйТи\" | Limited Liability Company \"Hughes Co.\" | UsetIT\n",
      "ЗАО \"Т-Хелпер Телеком\" | ZAO \"T-Helper Telekom\" | \"T-Helper Telecom\"\n",
      "ЗАО \"СТАЗИС\" | ZAO \"stasis\" | Joint-stock сompany \"STAZIS\"\n",
      "ООО \"Датч Дизайн Хаус\" | OOO \"Danish Design House\" | Limited Liability Company \"Dutch Desing House\"\n",
      "Общество с ограниченной ответственностью \"Прайм Фуд Сервис\" | Limited Liability Company \"Prime Food Service\" | Limited Liability Company \"Prime Food Service\"\n"
     ]
    },
    {
     "name": "stdout",
     "output_type": "stream",
     "text": [
      "Общество с ограниченной ответственностью \"СТАФФ ПРИНТ\" | Limited Liability Company \"STAFF PRINT\" | \"STUFF PRINT\"\n",
      "ООО \"БОР\" | OOO \"BOR\" | \"BOR\" Ltd\n",
      "ООО \"ТОМАС\" | OOO \"THOMAS\" | ООО \"TOMAS\"\n",
      "АНО \"Международный кубок Спартака\" | ANO \"International Cup Spartak\" | Autonomous non-commercial organisation \"Spartak Cup Internationai\"\n",
      "Общество с ограниченной ответственностью \"Фарго Логистикс\" | Limited Liability Company \"Fargo Logistics\" | Fargo Logistics Limited Liability Company\n",
      "Общество с ограниченной ответственностью Инжиниринговая компания \"Поволжское бюро машиностроения\" | Limited Liability Company Engineering company \"Volga Region Engineering Office\" | \"PBM\" The engineering company\n",
      "ООО \"ГЛОБУС\" | OOO \"Globus\" | Private Security Company \"RVV security\" LLC\n",
      "ЗАО \"Журнал\" Звезда\" | ZAO \"Journal\" Zvezda \" | \"Zvezda\" Ltd\n",
      "ООО \"ЭВК-Сервис\" | LLC \"CG-Service\" | \"EVK-Service\"\n",
      "ООО \"Д` АСТРА\" | OOO \"D` ASTRA\" | \"D ASTRA\"\n",
      "ООО \"Хуаци\" | OOO \"Huatsi\" | Limited Liability Company \"Huagi\"; \"Huadgi\" LLC\n",
      "ООО \"Альфа Дизайн\" | \"Alfa Design\" | \"Alpha Design\" Company Limited\n",
      "Общество с ограниченной ответственностью \"ВСВ\" | Limited Liability Company \"NE\" | Societ with Limited a company \"VSV\"\n",
      "ООО \"ГК \"НП\" | OOO \"GK\" NP \" | Limited liability company \"New Project Group\"\n",
      "ООО \"Сетевые коммуникации\" | Ltd. \"Network Communications\" | \"Network communications\" Ltd\n",
      "Общество с ограниченной ответственностью \"Геликс\" | Limited Liability Company \"Helix\" | \"Helix ltd\"\n",
      "РОО \"ФЕДЕРАЦИЯ СПОРТИВНОГО ПОКЕРА РБ\" | ROO \"FEDERATION OF SPORT POKER RB\" | \"Republic of Buryatia sport poker federation\"\n",
      "ЗАО ЮБ \"Новация\" | UB Company \"novation\" | Joint-stock venture lecal office \"Innovation\"\n",
      "ООО \"РОСТ\" | Ltd. \"GROWTH\" | Limited Liability Company ROST\n",
      "ООО \"ФитнесБар\" | OOO \"FitnesBar\" | \"FitnessBar\" Company Limited\n",
      "ООО \"Агентство Контакт Рекрутмент\" | \"Agency Contact Recruitment\" | \"Agentstvo Kontakt Rekruitment\" LTD\n",
      "ООО \"Слайс теннис-клуб\" | Ltd. \"Slice tennis club\" | \"Slice tennis-club\"\n",
      "ООО \"Логистик Стайл\" | OOo \"Logistics-style rocks\" | \"Logistic Style\" Company Limited\n",
      "Общество с ограниченной ответственностью \"Транспортно-логистическая компания \"Континент-Сибирь\" | Limited Liability Company \"Transportation and logistics company\" Continent Siberia \" | Limited liability company \"Transport and logistic company \"Continent-Siberia\"\n",
      "Закрытое акционерное общество \"Менеджмент. Бизнес. Финансы.\" | Closed Joint Stock Company \"Management. Business. Finances.\" | Joint-stock company \"MBF. Educational Center\"\n"
     ]
    }
   ],
   "source": [
    "for i in range(100):\n",
    "    ru = tr.loc[i, 'ru_name']\n",
    "    trans = translator.translate(ru).text\n",
    "    print(ru, '|',  trans, '|', tr.loc[i, 'eng_name'])"
   ]
  },
  {
   "cell_type": "code",
   "execution_count": null,
   "metadata": {},
   "outputs": [],
   "source": []
  }
 ],
 "metadata": {
  "kernelspec": {
   "display_name": "Python 3",
   "language": "python",
   "name": "python3"
  },
  "language_info": {
   "codemirror_mode": {
    "name": "ipython",
    "version": 3
   },
   "file_extension": ".py",
   "mimetype": "text/x-python",
   "name": "python",
   "nbconvert_exporter": "python",
   "pygments_lexer": "ipython3",
   "version": "3.7.4"
  }
 },
 "nbformat": 4,
 "nbformat_minor": 4
}
