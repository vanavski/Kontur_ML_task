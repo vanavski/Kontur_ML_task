{
 "cells": [
  {
   "cell_type": "code",
   "execution_count": null,
   "metadata": {},
   "outputs": [],
   "source": [
    "import pandas as pd\n",
    "import os\n",
    "import gensim\n",
    "import nltk as nl\n",
    "from sklearn.linear_model import LogisticRegression\n",
    "\n",
    "\n",
    "#Reading a csv file with text data\n",
    "dbFilepandas = pd.read_csv('for_my_love.csv', index_col = 0).apply(lambda x: x.astype(str).str.lower())\n",
    "\n",
    "train = []\n",
    "#getting only the first 4 columns of the file \n",
    "for sentences in dbFilepandas[dbFilepandas.columns[0:4]].values:\n",
    "    train.extend(sentences)\n",
    "\n",
    "# Create an array of tokens using nltk\n",
    "tokens = [nl.word_tokenize(sentences) for sentences in train]"
   ]
  },
  {
   "cell_type": "code",
   "execution_count": null,
   "metadata": {},
   "outputs": [],
   "source": [
    "len(tokens)"
   ]
  },
  {
   "cell_type": "code",
   "execution_count": null,
   "metadata": {},
   "outputs": [],
   "source": [
    "%%time\n",
    "model = gensim.models.Word2Vec(tokens, size=300, min_count=1, workers=3)\n",
    "print(\"\\n Training the word2vec model...\\n\")\n",
    "# reducing the epochs will decrease the computation time\n",
    "model.train(tokens, total_examples=len(tokens), epochs=4000)\n",
    "# You can save your model if you want....\n",
    "\n",
    "# The two datasets must be the same size\n",
    "max_dataset_size = len(model.wv.vectors)"
   ]
  },
  {
   "cell_type": "code",
   "execution_count": null,
   "metadata": {},
   "outputs": [],
   "source": [
    "max_dataset_size"
   ]
  },
  {
   "cell_type": "code",
   "execution_count": null,
   "metadata": {},
   "outputs": [],
   "source": [
    "Y_dataset = []\n",
    "\n",
    "# get the last number of each file. In this case is the department number\n",
    "# this will be the 0 or 1, or another kind of classification. ( to use words you need to extract them differently, this way is to numbers)\n",
    "with open(\"for_my_love.csv\", \"r\", encoding='utf-8') as f:\n",
    "    for line in f:\n",
    "        lastchar = line.strip()[0]\n",
    "        if lastchar.isdigit():\n",
    "            result = int(lastchar) \n",
    "            Y_dataset.append(result) \n",
    "        else:\n",
    "            result = 40"
   ]
  },
  {
   "cell_type": "code",
   "execution_count": null,
   "metadata": {},
   "outputs": [],
   "source": [
    "len(Y_dataset)"
   ]
  },
  {
   "cell_type": "code",
   "execution_count": null,
   "metadata": {},
   "outputs": [],
   "source": [
    "clf = LogisticRegression(random_state=0, solver='lbfgs', multi_class='multinomial').fit(model.wv.vectors, Y_dataset)"
   ]
  },
  {
   "cell_type": "code",
   "execution_count": null,
   "metadata": {},
   "outputs": [],
   "source": [
    "# Prediction of the first 15 samples of all features\n",
    "predict = clf.predict(model.wv.syn0[:15, :])\n",
    "# Calculating the score of the predictions\n",
    "score = clf.score(model.wv.syn0, Y_dataset[:max_dataset_size])\n",
    "print(\"\\nPrediction word2vec : \\n\", predict)\n",
    "print(\"Score word2vec : \\n\", score)"
   ]
  }
 ],
 "metadata": {
  "kernelspec": {
   "display_name": "Python 3",
   "language": "python",
   "name": "python3"
  },
  "language_info": {
   "codemirror_mode": {
    "name": "ipython",
    "version": 3
   },
   "file_extension": ".py",
   "mimetype": "text/x-python",
   "name": "python",
   "nbconvert_exporter": "python",
   "pygments_lexer": "ipython3",
   "version": "3.7.4"
  }
 },
 "nbformat": 4,
 "nbformat_minor": 2
}
